{
 "cells": [
  {
   "cell_type": "markdown",
   "metadata": {},
   "source": [
    "### Classify each frame with ResNet-18 CNN"
   ]
  },
  {
   "cell_type": "code",
   "execution_count": 1,
   "metadata": {},
   "outputs": [],
   "source": [
    "import os\n",
    "import torch\n",
    "import numpy as np\n",
    "import pandas as pd\n",
    "import seaborn as sn\n",
    "import torch.nn as nn\n",
    "import torch.optim as optim\n",
    "import matplotlib.pyplot as plt\n",
    "import torchvision.models as models\n",
    "import torchvision.transforms as transforms\n",
    "\n",
    "from PIL import Image\n",
    "from torchsummary import summary\n",
    "from torch.utils.data import DataLoader\n",
    "from torchvision.datasets import ImageFolder\n",
    "from torch.utils.tensorboard import SummaryWriter\n",
    "\n",
    "%matplotlib inline"
   ]
  },
  {
   "cell_type": "code",
   "execution_count": 2,
   "metadata": {},
   "outputs": [],
   "source": [
    "nb_classes = 8\n",
    "resnet18 = models.resnet18(pretrained=True)\n",
    "resnet18.fc = nn.Linear(resnet18.fc.in_features, nb_classes)\n",
    "\n",
    "i = 0\n",
    "for params in resnet18.parameters():\n",
    "    if i < 6:\n",
    "        params.requires_grad = False\n",
    "    i += 1\n",
    "#summary(resnet18, (3, 224, 224))"
   ]
  },
  {
   "cell_type": "code",
   "execution_count": 3,
   "metadata": {},
   "outputs": [],
   "source": [
    "batch_size = 64\n",
    "n_epochs = 10\n",
    "\n",
    "is_cpu_available = torch.cuda.is_available()\n",
    "\n",
    "#optimizer = optim.Adam(resnet18.parameters(), lr=2e-5, weight_decay=0.0001)\n",
    "optimizer = optim.SGD(resnet18.parameters(), lr=0.00002, momentum=0.95, weight_decay=0.001)\n",
    "criteria = nn.CrossEntropyLoss()"
   ]
  },
  {
   "cell_type": "code",
   "execution_count": 4,
   "metadata": {},
   "outputs": [],
   "source": [
    "train_transforms = transforms.Compose([\n",
    "            transforms.Resize((224, 224)),\n",
    "            transforms.RandomHorizontalFlip(),\n",
    "            transforms.RandomRotation(90),\n",
    "            transforms.ColorJitter(brightness=0.75, contrast=0.75, saturation=0.75),\n",
    "            transforms.ToTensor(),\n",
    "            transforms.Normalize((0.485, 0.456, 0.406), (0.229, 0.224, 0.225))\n",
    "        ])\n",
    "val_transforms = transforms.Compose([\n",
    "            transforms.Resize((224, 224)),\n",
    "            transforms.ToTensor(),\n",
    "            transforms.Normalize((0.485, 0.456, 0.406), (0.229, 0.224, 0.225))\n",
    "        ])\n",
    "test_transforms = transforms.Compose([\n",
    "            transforms.Resize((224, 224)),\n",
    "            transforms.ToTensor(),\n",
    "            transforms.Normalize((0.485, 0.456, 0.406), (0.229, 0.224, 0.225))\n",
    "        ])\n",
    "\n",
    "train_dataset = ImageFolder('./dataset1_/train', train_transforms)\n",
    "val_dataset = ImageFolder('./dataset1_/val', val_transforms)\n",
    "test_dataset = ImageFolder('./dataset1_/test', test_transforms)\n",
    "\n",
    "train_loader = DataLoader(dataset=train_dataset, batch_size=batch_size, num_workers=4, shuffle=True)\n",
    "test_loader = DataLoader(dataset=val_dataset, batch_size=32, num_workers=4, shuffle=False)\n",
    "val_loader = DataLoader(dataset=test_dataset, batch_size=32, num_workers=4, shuffle=False)"
   ]
  },
  {
   "cell_type": "code",
   "execution_count": 5,
   "metadata": {},
   "outputs": [
    {
     "name": "stdout",
     "output_type": "stream",
     "text": [
      "Epoch: 0 - Train Loss: 2.0223751306533813 - Train Accuracy: 0.20152445137500763\n",
      "Epoch: 0 - Val Loss: 1.8121536038815975 - Val Accuracy: 0.3055003583431244\n",
      "Epoch: 1 - Train Loss: 1.7646518020068898 - Train Accuracy: 0.3720022439956665\n",
      "Epoch: 1 - Val Loss: 1.6726270020008087 - Val Accuracy: 0.37243208289146423\n",
      "Epoch: 2 - Train Loss: 1.594485598451951 - Train Accuracy: 0.47499537467956543\n",
      "Epoch: 2 - Val Loss: 1.5611149358252685 - Val Accuracy: 0.4082173705101013\n",
      "Epoch: 3 - Train Loss: 1.4410934251897476 - Train Accuracy: 0.5486149787902832\n",
      "Epoch: 3 - Val Loss: 1.4601957847674687 - Val Accuracy: 0.4791252613067627\n",
      "Epoch: 4 - Train Loss: 1.3259785203372731 - Train Accuracy: 0.5975088477134705\n",
      "Epoch: 4 - Val Loss: 1.4002999514341354 - Val Accuracy: 0.5255135893821716\n",
      "Epoch: 5 - Train Loss: 1.223727743765887 - Train Accuracy: 0.6365495920181274\n",
      "Epoch: 5 - Val Loss: 1.3286201807980735 - Val Accuracy: 0.5222001671791077\n",
      "Epoch: 6 - Train Loss: 1.1223911629003638 - Train Accuracy: 0.6623908281326294\n",
      "Epoch: 6 - Val Loss: 1.263032568929096 - Val Accuracy: 0.5520212054252625\n",
      "Epoch: 7 - Train Loss: 1.0455881714820863 - Train Accuracy: 0.6939951777458191\n",
      "Epoch: 7 - Val Loss: 1.209495553591599 - Val Accuracy: 0.5719019174575806\n",
      "Epoch: 8 - Train Loss: 0.9738366582814385 - Train Accuracy: 0.721509575843811\n",
      "Epoch: 8 - Val Loss: 1.1870506905640166 - Val Accuracy: 0.5844930410385132\n",
      "Epoch: 9 - Train Loss: 0.9216385659049539 - Train Accuracy: 0.7469789981842041\n",
      "Epoch: 9 - Val Loss: 1.1318711965965729 - Val Accuracy: 0.6003976464271545\n"
     ]
    }
   ],
   "source": [
    "resnet18.train()\n",
    "\n",
    "if is_cpu_available:\n",
    "    resnet18.cuda()\n",
    "    criteria.cuda()\n",
    "\n",
    "losses_epoch_train = []\n",
    "accuracy_epoch_train = []\n",
    "\n",
    "losses_epoch_val = []\n",
    "accuracy_epoch_val = []\n",
    "\n",
    "writer = SummaryWriter()\n",
    "\n",
    "# Training loop\n",
    "for epoch in range(n_epochs):\n",
    "    total = 0\n",
    "    epoch_loss = 0\n",
    "    epoch_correct = 0\n",
    "    for ix, data in enumerate(train_loader):\n",
    "        resnet18.zero_grad()\n",
    "        \n",
    "        img, label = data\n",
    "        if is_cpu_available:\n",
    "            img = img.cuda()\n",
    "            label = label.cuda()\n",
    "\n",
    "        # Forward pass\n",
    "        outputs = resnet18.forward(img)\n",
    "        loss = criteria(outputs, label)\n",
    "\n",
    "        # Prevent gradient addition\n",
    "        optimizer.zero_grad()\n",
    "\n",
    "        # Gradient calculation\n",
    "        loss.backward()\n",
    "\n",
    "        # Optimization\n",
    "        optimizer.step()\n",
    "\n",
    "        # Train loss for iter\n",
    "        epoch_loss += loss.item()\n",
    "\n",
    "        # Train accuracy for iter\n",
    "        _, predictions = torch.max(outputs.data, 1)\n",
    "        correct_pediction = (predictions == label).sum()\n",
    "\n",
    "        epoch_correct += correct_pediction\n",
    "        total += len(label)\n",
    "        \n",
    "    losses_epoch_train.append(epoch_loss / len(train_loader))\n",
    "    accuracy_epoch_train.append(epoch_correct / total)\n",
    "\n",
    "    writer.add_scalars('loss', {'train loss': epoch_loss / len(train_loader)}, epoch)\n",
    "    writer.add_scalars('acc', {'train acc': epoch_correct / total}, epoch)\n",
    "    \n",
    "    print('Epoch: {} - Train Loss: {} - Train Accuracy: {}'.format(epoch, epoch_loss / len(train_loader), epoch_correct / total))          \n",
    "\n",
    "    with torch.no_grad():\n",
    "        resnet18.eval()\n",
    "\n",
    "        total = 0\n",
    "        epoch_loss = 0\n",
    "        epoch_correct = 0\n",
    "        # Measure the performance in validation set.\n",
    "        for ix, data in enumerate(val_loader):\n",
    "            img, label = data\n",
    "\n",
    "            if is_cpu_available:\n",
    "                img = img.cuda()\n",
    "                label = label.cuda()\n",
    "\n",
    "            # Test forward\n",
    "            outputs = resnet18.forward(img)\n",
    "            loss = criteria(outputs, label)\n",
    "\n",
    "            # Test loss for iter\n",
    "            epoch_loss += loss.item()\n",
    "\n",
    "            # Train accuracy for iter\n",
    "            _, predictions = torch.max(outputs.data, 1)\n",
    "            correct_pediction = (predictions == label).sum()\n",
    "\n",
    "            epoch_correct += correct_pediction\n",
    "            total += len(label)\n",
    "            \n",
    "        losses_epoch_val.append(epoch_loss / len(val_loader))\n",
    "        accuracy_epoch_val.append(epoch_correct / total)\n",
    "\n",
    "        writer.add_scalars('loss', {'val loss': epoch_loss / len(val_loader)}, epoch)\n",
    "        writer.add_scalars('acc', {'val acc': epoch_correct / total}, epoch)\n",
    "\n",
    "        print('Epoch: {} - Val Loss: {} - Val Accuracy: {}'.format(epoch, epoch_loss / len(val_loader), epoch_correct / total))          \n",
    "\n",
    "    resnet18.train()\n",
    "    \n",
    "writer.close()"
   ]
  },
  {
   "cell_type": "markdown",
   "metadata": {},
   "source": [
    "tensorboard --logdir runs"
   ]
  },
  {
   "cell_type": "code",
   "execution_count": 6,
   "metadata": {},
   "outputs": [
    {
     "data": {
      "image/png": "[encoded data removed]",
      "text/plain": [
       "<Figure size 288x288 with 1 Axes>"
      ]
     },
     "metadata": {
      "needs_background": "light"
     },
     "output_type": "display_data"
    },
    {
     "data": {
      "image/png": "[encoded data removed]",
      "text/plain": [
       "<Figure size 288x288 with 1 Axes>"
      ]
     },
     "metadata": {
      "needs_background": "light"
     },
     "output_type": "display_data"
    }
   ],
   "source": [
    "fig, ax = plt.subplots(figsize=(4, 4))\n",
    "plt.plot(losses_epoch_train , color='r')\n",
    "plt.plot(losses_epoch_val, color='b')\n",
    "plt.legend([\"Train Loss\", \"Validation Loss\"])\n",
    "plt.xlabel(\"Epochs\")\n",
    "plt.ylabel(\"Loss\")\n",
    "ax.grid(True)\n",
    "\n",
    "fig, ax = plt.subplots(figsize=(4, 4))\n",
    "plt.plot(accuracy_epoch_train , color='r')\n",
    "plt.plot(accuracy_epoch_val, color='b')\n",
    "plt.legend([\"Validation Accuracy\"])\n",
    "plt.xlabel(\"Epochs\")\n",
    "plt.ylabel(\"Accuracy\")\n",
    "ax.grid(True)"
   ]
  },
  {
   "cell_type": "code",
   "execution_count": 33,
   "metadata": {},
   "outputs": [
    {
     "name": "stdout",
     "output_type": "stream",
     "text": [
      "Test Accuracy: % 0.615321934223175 \n"
     ]
    },
    {
     "data": {
      "image/png": "[encoded data removed]",
      "text/plain": [
       "<Figure size 432x288 with 2 Axes>"
      ]
     },
     "metadata": {
      "needs_background": "light"
     },
     "output_type": "display_data"
    }
   ],
   "source": [
    "from sklearn.metrics import confusion_matrix\n",
    "\n",
    "resnet18.eval()\n",
    "\n",
    "targets = []\n",
    "predicts = []\n",
    "labs = ['Golf', 'Kicking', 'Lifting', 'Riding-Horse', 'Run-Side', 'SkateBoarding', 'Swing', 'Walk']\n",
    "\n",
    "with torch.no_grad():\n",
    "    total = 0\n",
    "    correct_prediction = 0\n",
    "    for data in test_loader:\n",
    "        img, label = data\n",
    "        \n",
    "        if is_cpu_available:\n",
    "            img = img.cuda()\n",
    "            label = label.cuda()\n",
    "        \n",
    "        outputs = resnet18.forward(img)\n",
    "\n",
    "        _, predictions = torch.max(outputs.data, 1)\n",
    "        correct_prediction += (predictions == label).sum()\n",
    "        \n",
    "        total += len(label)\n",
    "        \n",
    "        preds = predictions.detach().cpu().numpy()\n",
    "        labels = label.detach().cpu().numpy()\n",
    "        \n",
    "        for i in range(len(preds)):\n",
    "            targets.append(labels[i])\n",
    "            predicts.append(preds[i])\n",
    "\n",
    "    print('Test Accuracy: % {} '.format(correct_prediction / total))\n",
    "    \n",
    "    matrix = confusion_matrix(targets, predicts, normalize = 'true')\n",
    "    sn.heatmap(matrix, annot=True, cmap = sn.color_palette(\"vlag\", as_cmap=True), xticklabels=labs, yticklabels=labs)"
   ]
  },
  {
   "cell_type": "code",
   "execution_count": null,
   "metadata": {},
   "outputs": [],
   "source": []
  }
 ],
 "metadata": {
  "kernelspec": {
   "display_name": "Python 3",
   "language": "python",
   "name": "python3"
  },
  "language_info": {
   "codemirror_mode": {
    "name": "ipython",
    "version": 3
   },
   "file_extension": ".py",
   "mimetype": "text/x-python",
   "name": "python",
   "nbconvert_exporter": "python",
   "pygments_lexer": "ipython3",
   "version": "3.6.12"
  }
 },
 "nbformat": 4,
 "nbformat_minor": 4
}
