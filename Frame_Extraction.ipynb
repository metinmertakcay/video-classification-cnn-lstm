{
 "cells": [
  {
   "cell_type": "markdown",
   "metadata": {},
   "source": [
    "### This script is used to extract video frames."
   ]
  },
  {
   "cell_type": "code",
   "execution_count": 1,
   "metadata": {},
   "outputs": [],
   "source": [
    "import numpy as np\n",
    "import cv2\n",
    "import os"
   ]
  },
  {
   "cell_type": "code",
   "execution_count": 2,
   "metadata": {},
   "outputs": [],
   "source": [
    "inputs = 'dataset_ucf_video'\n",
    "outputs = 'dataset_ucf_video_frame'\n",
    "\n",
    "train_in = os.path.join(inputs, 'train')\n",
    "test_in = os.path.join(inputs, 'test')\n",
    "val_in = os.path.join(inputs, 'val')\n",
    "\n",
    "train_out = os.path.join(outputs, 'train')\n",
    "test_out = os.path.join(outputs, 'test')\n",
    "val_out = os.path.join(outputs, 'val')"
   ]
  },
  {
   "cell_type": "code",
   "execution_count": 3,
   "metadata": {},
   "outputs": [],
   "source": [
    "# create folder if not exist\n",
    "def create_folder(folder):\n",
    "    if not os.path.exists(folder):\n",
    "        os.makedirs(folder)"
   ]
  },
  {
   "cell_type": "code",
   "execution_count": 4,
   "metadata": {},
   "outputs": [],
   "source": [
    "create_folder(outputs)\n",
    "create_folder(train_out)\n",
    "create_folder(test_out)\n",
    "create_folder(val_out)"
   ]
  },
  {
   "cell_type": "code",
   "execution_count": 6,
   "metadata": {},
   "outputs": [],
   "source": [
    "datas_path = [[train_in, train_out], [test_in, test_out], [val_in, val_out]]\n",
    "\n",
    "num_frames = 16\n",
    "for data_path in datas_path:\n",
    "    data_in = os.listdir(data_path[0])\n",
    "    \n",
    "    for fol_in in data_in:\n",
    "        fol_in_path = os.path.join(data_path[0], fol_in)\n",
    "        fol_out_path = os.path.join(data_path[1], fol_in)\n",
    "    \n",
    "        create_folder(fol_out_path)\n",
    "    \n",
    "        vid_count = 0\n",
    "        file_in = os.listdir(fol_in_path)\n",
    "        for video_name in file_in:\n",
    "            vid_in_path = os.path.join(fol_in_path, video_name)\n",
    "    \n",
    "            if vid_in_path.endswith('.avi'):\n",
    "                vidcap = cv2.VideoCapture(vid_in_path)\n",
    "                success, img = vidcap.read()\n",
    "                \n",
    "                vid_len = int(vidcap.get(cv2.CAP_PROP_FRAME_COUNT))\n",
    "            \n",
    "                # frames to be used classification\n",
    "                frame_index = np.linspace(0, vid_len, num_frames + 1, dtype = np.int16)\n",
    "                \n",
    "                count = 0\n",
    "                while success:\n",
    "                    if count in frame_index:\n",
    "                        cv2.imwrite(os.path.join(fol_out_path, '{} - {}.jpg'.format(vid_count, count)), img)\n",
    "                    success, img = vidcap.read()\n",
    "                    count += 1\n",
    "                \n",
    "            vid_count += 1"
   ]
  },
  {
   "cell_type": "code",
   "execution_count": null,
   "metadata": {},
   "outputs": [],
   "source": []
  }
 ],
 "metadata": {
  "kernelspec": {
   "display_name": "Python 3",
   "language": "python",
   "name": "python3"
  },
  "language_info": {
   "codemirror_mode": {
    "name": "ipython",
    "version": 3
   },
   "file_extension": ".py",
   "mimetype": "text/x-python",
   "name": "python",
   "nbconvert_exporter": "python",
   "pygments_lexer": "ipython3",
   "version": "3.6.12"
  }
 },
 "nbformat": 4,
 "nbformat_minor": 4
}
