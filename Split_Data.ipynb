{
 "cells": [
  {
   "cell_type": "markdown",
   "metadata": {},
   "source": [
    "### This script is used to split data into three part, train, test and validation"
   ]
  },
  {
   "cell_type": "code",
   "execution_count": 1,
   "metadata": {},
   "outputs": [],
   "source": [
    "import random\n",
    "import shutil\n",
    "import os"
   ]
  },
  {
   "cell_type": "code",
   "execution_count": 2,
   "metadata": {},
   "outputs": [],
   "source": [
    "train_set_rate = 0.7\n",
    "test_set_rate = 0.2\n",
    "val_set_rate = 1 - (train_set_rate + test_set_rate)"
   ]
  },
  {
   "cell_type": "code",
   "execution_count": 3,
   "metadata": {},
   "outputs": [],
   "source": [
    "inputs = 'data'\n",
    "outputs = 'dataset'\n",
    "\n",
    "train = os.path.join(outputs, 'train')\n",
    "test = os.path.join(outputs, 'test')\n",
    "val = os.path.join(outputs, 'val')"
   ]
  },
  {
   "cell_type": "code",
   "execution_count": 4,
   "metadata": {},
   "outputs": [],
   "source": [
    "# create folder if not exist\n",
    "def create_folder(folder):\n",
    "    if not os.path.exists(folder):\n",
    "        os.makedirs(folder)"
   ]
  },
  {
   "cell_type": "code",
   "execution_count": 5,
   "metadata": {},
   "outputs": [],
   "source": [
    "create_folder(outputs)\n",
    "create_folder(train)\n",
    "create_folder(test)\n",
    "create_folder(val)"
   ]
  },
  {
   "cell_type": "code",
   "execution_count": 6,
   "metadata": {},
   "outputs": [],
   "source": [
    "# This function is used to split data\n",
    "def split(data):\n",
    "    length = len(data)\n",
    "    \n",
    "    train_data = data[ : int(length * train_set_rate)]\n",
    "    test_data = data[int(length * train_set_rate) : int(length * (train_set_rate + test_set_rate))]\n",
    "    val_data = data[int(length * (train_set_rate + test_set_rate)) : ]\n",
    "    return train_data, test_data, val_data"
   ]
  },
  {
   "cell_type": "code",
   "execution_count": 7,
   "metadata": {},
   "outputs": [],
   "source": [
    "def copy_file(src, dst, datas):\n",
    "    for data in datas:\n",
    "        shutil.copy(os.path.join(src, data), os.path.join(dst, data))"
   ]
  },
  {
   "cell_type": "code",
   "execution_count": 8,
   "metadata": {},
   "outputs": [],
   "source": [
    "random.seed(42)\n",
    "\n",
    "dataset = os.listdir(inputs)\n",
    "for folder in dataset:\n",
    "    f_in_path = os.path.join(inputs, folder)\n",
    "    \n",
    "    f_train_path = os.path.join(train, folder)\n",
    "    f_test_path = os.path.join(test, folder)\n",
    "    f_val_path = os.path.join(val, folder)\n",
    "    \n",
    "    create_folder(f_train_path)\n",
    "    create_folder(f_test_path)\n",
    "    create_folder(f_val_path)\n",
    "    \n",
    "    files = os.listdir(f_in_path)\n",
    "    \n",
    "    # shuffle the data\n",
    "    random.shuffle(files)\n",
    "    \n",
    "    train_data, test_data, val_data = split(files)\n",
    "    \n",
    "    copy_file(f_in_path, f_train_path, train_data)\n",
    "    copy_file(f_in_path, f_test_path, test_data)\n",
    "    copy_file(f_in_path, f_val_path, val_data)"
   ]
  },
  {
   "cell_type": "code",
   "execution_count": null,
   "metadata": {},
   "outputs": [],
   "source": []
  }
 ],
 "metadata": {
  "kernelspec": {
   "display_name": "Python 3",
   "language": "python",
   "name": "python3"
  },
  "language_info": {
   "codemirror_mode": {
    "name": "ipython",
    "version": 3
   },
   "file_extension": ".py",
   "mimetype": "text/x-python",
   "name": "python",
   "nbconvert_exporter": "python",
   "pygments_lexer": "ipython3",
   "version": "3.6.12"
  }
 },
 "nbformat": 4,
 "nbformat_minor": 4
}
