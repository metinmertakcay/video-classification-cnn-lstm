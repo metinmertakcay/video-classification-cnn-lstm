{
 "cells": [
  {
   "cell_type": "markdown",
   "metadata": {},
   "source": [
    "### This script is used prepare data."
   ]
  },
  {
   "cell_type": "code",
   "execution_count": 1,
   "metadata": {},
   "outputs": [],
   "source": [
    "import numpy as np\n",
    "import cv2\n",
    "import os\n",
    "\n",
    "from shutil import copyfile"
   ]
  },
  {
   "cell_type": "code",
   "execution_count": 2,
   "metadata": {},
   "outputs": [],
   "source": [
    "dataset = 'dataset_ucf_video_keyframe'\n",
    "target = 'dataset_ucf_video_keyframe_vc'"
   ]
  },
  {
   "cell_type": "code",
   "execution_count": 3,
   "metadata": {},
   "outputs": [],
   "source": [
    "# create folder if not exist\n",
    "def create_folder(folder_name):\n",
    "    if not os.path.exists(folder_name):\n",
    "        os.makedirs(folder_name)"
   ]
  },
  {
   "cell_type": "code",
   "execution_count": 4,
   "metadata": {},
   "outputs": [],
   "source": [
    "# create target folder to store extracted frames\n",
    "create_folder(target)"
   ]
  },
  {
   "cell_type": "code",
   "execution_count": 5,
   "metadata": {},
   "outputs": [],
   "source": [
    "dtypes = os.listdir(dataset)\n",
    "for dtype in dtypes:\n",
    "    dtype_path = os.path.join(dataset, dtype)\n",
    "\n",
    "    # create subfolders under target folder\n",
    "    create_folder(os.path.join(target, dtype))\n",
    "    \n",
    "    categories = os.listdir(dtype_path)\n",
    "    for category in categories:\n",
    "        category_path = os.path.join(dtype_path, category)\n",
    "    \n",
    "        # create category \n",
    "        create_folder(os.path.join(target, dtype, category))\n",
    "    \n",
    "        frames = os.listdir(category_path)\n",
    "        for frame in frames:\n",
    "            frame_path = os.path.join(dtype_path, category, frame)\n",
    "            \n",
    "            video_id = frame.split(' ')[0]\n",
    "            \n",
    "            # create folder for video frame\n",
    "            create_folder(os.path.join(target, dtype, category, video_id))\n",
    "            \n",
    "            video_id_path = os.path.join(target, dtype, category, video_id, frame)\n",
    "            \n",
    "            copyfile(frame_path, video_id_path)"
   ]
  },
  {
   "cell_type": "code",
   "execution_count": null,
   "metadata": {},
   "outputs": [],
   "source": []
  }
 ],
 "metadata": {
  "kernelspec": {
   "display_name": "Python 3",
   "language": "python",
   "name": "python3"
  },
  "language_info": {
   "codemirror_mode": {
    "name": "ipython",
    "version": 3
   },
   "file_extension": ".py",
   "mimetype": "text/x-python",
   "name": "python",
   "nbconvert_exporter": "python",
   "pygments_lexer": "ipython3",
   "version": "3.6.12"
  }
 },
 "nbformat": 4,
 "nbformat_minor": 4
}
