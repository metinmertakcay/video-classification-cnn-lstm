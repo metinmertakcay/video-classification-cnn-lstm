{
 "cells": [
  {
   "cell_type": "markdown",
   "metadata": {},
   "source": [
    "### Clasify each frame with CNN"
   ]
  },
  {
   "cell_type": "code",
   "execution_count": 1,
   "metadata": {},
   "outputs": [],
   "source": [
    "import os\n",
    "import torch\n",
    "import numpy as np\n",
    "import torch.nn as nn\n",
    "import torch.optim as optim\n",
    "import matplotlib.pyplot as plt\n",
    "import torchvision.models as models\n",
    "import torchvision.transforms as transforms\n",
    "\n",
    "from PIL import Image\n",
    "from torchsummary import summary\n",
    "from torch.utils.data import DataLoader\n",
    "from torchvision.datasets import ImageFolder\n",
    "from torch.utils.tensorboard import SummaryWriter\n",
    "\n",
    "%matplotlib inline"
   ]
  },
  {
   "cell_type": "code",
   "execution_count": 2,
   "metadata": {},
   "outputs": [],
   "source": [
    "resnet18 = models.resnet18(pretrained=True)\n",
    "resnet18.fc = nn.Linear(resnet18.fc.in_features, 8)\n",
    "\n",
    "i = 0\n",
    "for params in resnet18.parameters():\n",
    "    if i < 6:\n",
    "        params.requires_grad = False\n",
    "    i += 1\n",
    "#summary(resnet18, (3, 224, 224))"
   ]
  },
  {
   "cell_type": "code",
   "execution_count": 3,
   "metadata": {},
   "outputs": [],
   "source": [
    "batch_size = 64\n",
    "n_epochs = 10\n",
    "\n",
    "is_cpu_available = torch.cuda.is_available()\n",
    "\n",
    "#optimizer = optim.Adam(resnet18.parameters(), lr=2e-5, weight_decay=0.0001)\n",
    "optimizer = optim.SGD(resnet18.parameters(), lr=0.00002, momentum=0.95, weight_decay=0.001)\n",
    "criteria = nn.CrossEntropyLoss()"
   ]
  },
  {
   "cell_type": "code",
   "execution_count": 4,
   "metadata": {},
   "outputs": [],
   "source": [
    "train_transforms = transforms.Compose([\n",
    "            transforms.Resize((224, 224)),\n",
    "            transforms.RandomHorizontalFlip(),\n",
    "            transforms.RandomRotation(90),\n",
    "            transforms.ColorJitter(brightness=0.75, contrast=0.75, saturation=0.75),\n",
    "            transforms.ToTensor(),\n",
    "            transforms.Normalize((0.485, 0.456, 0.406), (0.229, 0.224, 0.225))\n",
    "        ])\n",
    "val_transforms = transforms.Compose([\n",
    "            transforms.Resize((224, 224)),\n",
    "            transforms.ToTensor(),\n",
    "            transforms.Normalize((0.485, 0.456, 0.406), (0.229, 0.224, 0.225))\n",
    "        ])\n",
    "test_transforms = transforms.Compose([\n",
    "            transforms.Resize((224, 224)),\n",
    "            transforms.ToTensor(),\n",
    "            transforms.Normalize((0.485, 0.456, 0.406), (0.229, 0.224, 0.225))\n",
    "        ])\n",
    "\n",
    "train_dataset = ImageFolder('./dataset1_/train', train_transforms)\n",
    "val_dataset = ImageFolder('./dataset1_/val', val_transforms)\n",
    "test_dataset = ImageFolder('./dataset1_/test', test_transforms)\n",
    "\n",
    "train_loader = DataLoader(dataset=train_dataset, batch_size=batch_size, num_workers=4, shuffle=True)\n",
    "test_loader = DataLoader(dataset=val_dataset, batch_size=32, num_workers=4, shuffle=False)\n",
    "val_loader = DataLoader(dataset=test_dataset, batch_size=32, num_workers=4, shuffle=False)"
   ]
  },
  {
   "cell_type": "code",
   "execution_count": 5,
   "metadata": {},
   "outputs": [
    {
     "name": "stdout",
     "output_type": "stream",
     "text": [
      "Epoch: 0 - Train Loss: 2.109883391155916 - Train Accuracy: 0.2039412558078766\n",
      "Epoch: 0 - Val Loss: 1.912674682835738 - Val Accuracy: 0.33465874195098877\n",
      "Epoch: 1 - Train Loss: 1.7685688145020428 - Train Accuracy: 0.39691394567489624\n",
      "Epoch: 1 - Val Loss: 1.7807432152330875 - Val Accuracy: 0.3598409593105316\n",
      "Epoch: 2 - Train Loss: 1.6069124698638917 - Train Accuracy: 0.47387993335723877\n",
      "Epoch: 2 - Val Loss: 1.6597686658302944 - Val Accuracy: 0.4029158651828766\n",
      "Epoch: 3 - Train Loss: 1.4589901026557475 - Train Accuracy: 0.5434095859527588\n",
      "Epoch: 3 - Val Loss: 1.5599755651007097 - Val Accuracy: 0.44864150881767273\n",
      "Epoch: 4 - Train Loss: 1.3428621502483593 - Train Accuracy: 0.6004833579063416\n",
      "Epoch: 4 - Val Loss: 1.4518171641975641 - Val Accuracy: 0.5215374827384949\n",
      "Epoch: 5 - Train Loss: 1.2371958466137156 - Train Accuracy: 0.6465886235237122\n",
      "Epoch: 5 - Val Loss: 1.3623307642216484 - Val Accuracy: 0.5831676721572876\n",
      "Epoch: 6 - Train Loss: 1.1528324190308066 - Train Accuracy: 0.674474835395813\n",
      "Epoch: 6 - Val Loss: 1.2919086321877937 - Val Accuracy: 0.6315441131591797\n",
      "Epoch: 7 - Train Loss: 1.0685386159840753 - Train Accuracy: 0.7034764885902405\n",
      "Epoch: 7 - Val Loss: 1.2291317611622314 - Val Accuracy: 0.6467859745025635\n",
      "Epoch: 8 - Train Loss: 0.9921921849250793 - Train Accuracy: 0.7365681529045105\n",
      "Epoch: 8 - Val Loss: 1.1992562264204025 - Val Accuracy: 0.6706428527832031\n",
      "Epoch: 9 - Train Loss: 0.9399854351492489 - Train Accuracy: 0.756274402141571\n",
      "Epoch: 9 - Val Loss: 1.1380266468040645 - Val Accuracy: 0.6832339763641357\n"
     ]
    }
   ],
   "source": [
    "resnet18.train()\n",
    "\n",
    "if is_cpu_available:\n",
    "    resnet18.cuda()\n",
    "    criteria.cuda()\n",
    "\n",
    "losses_epoch_train = []\n",
    "accuracy_epoch_train = []\n",
    "\n",
    "losses_epoch_val = []\n",
    "accuracy_epoch_val = []\n",
    "\n",
    "writer = SummaryWriter()\n",
    "\n",
    "# Training loop\n",
    "for epoch in range(n_epochs):\n",
    "    total = 0\n",
    "    epoch_loss = 0\n",
    "    epoch_correct = 0\n",
    "    for ix, data in enumerate(train_loader):\n",
    "        resnet18.zero_grad()\n",
    "        \n",
    "        img, label = data\n",
    "        if is_cpu_available:\n",
    "            img = img.cuda()\n",
    "            label = label.cuda()\n",
    "\n",
    "        # Forward pass\n",
    "        outputs = resnet18.forward(img)\n",
    "        loss = criteria(outputs, label)\n",
    "\n",
    "        # Prevent gradient addition\n",
    "        optimizer.zero_grad()\n",
    "\n",
    "        # Gradient calculation\n",
    "        loss.backward()\n",
    "\n",
    "        # Optimization\n",
    "        optimizer.step()\n",
    "\n",
    "        # Train loss for iter\n",
    "        epoch_loss += loss.item()\n",
    "\n",
    "        # Train accuracy for iter\n",
    "        _, predictions = torch.max(outputs.data, 1)\n",
    "        correct_pediction = (predictions == label).sum()\n",
    "\n",
    "        epoch_correct += correct_pediction\n",
    "        total += len(label)\n",
    "        \n",
    "    losses_epoch_train.append(epoch_loss / len(train_loader))\n",
    "    accuracy_epoch_train.append(epoch_correct / total)\n",
    "\n",
    "    writer.add_scalars('loss', {'train loss': epoch_loss / len(train_loader)}, epoch)\n",
    "    writer.add_scalars('acc', {'train acc': epoch_correct / total}, epoch)\n",
    "    \n",
    "    print('Epoch: {} - Train Loss: {} - Train Accuracy: {}'.format(epoch, epoch_loss / len(train_loader), epoch_correct / total))          \n",
    "\n",
    "    with torch.no_grad():\n",
    "        resnet18.eval()\n",
    "\n",
    "        total = 0\n",
    "        epoch_loss = 0\n",
    "        epoch_correct = 0\n",
    "        # Measure the performance in validation set.\n",
    "        for ix, data in enumerate(val_loader):\n",
    "            img, label = data\n",
    "\n",
    "            if is_cpu_available:\n",
    "                img = img.cuda()\n",
    "                label = label.cuda()\n",
    "\n",
    "            # Test forward\n",
    "            outputs = resnet18.forward(img)\n",
    "            loss = criteria(outputs, label)\n",
    "\n",
    "            # Test loss for iter\n",
    "            epoch_loss += loss.item()\n",
    "\n",
    "            # Train accuracy for iter\n",
    "            _, predictions = torch.max(outputs.data, 1)\n",
    "            correct_pediction = (predictions == label).sum()\n",
    "\n",
    "            epoch_correct += correct_pediction\n",
    "            total += len(label)\n",
    "            \n",
    "        losses_epoch_val.append(epoch_loss / len(val_loader))\n",
    "        accuracy_epoch_val.append(epoch_correct / total)\n",
    "\n",
    "        writer.add_scalars('loss', {'val loss': epoch_loss / len(val_loader)}, epoch)\n",
    "        writer.add_scalars('acc', {'val acc': epoch_correct / total}, epoch)\n",
    "\n",
    "        print('Epoch: {} - Val Loss: {} - Val Accuracy: {}'.format(epoch, epoch_loss / len(val_loader), epoch_correct / total))          \n",
    "\n",
    "    resnet18.train()\n",
    "    \n",
    "writer.close()"
   ]
  },
  {
   "cell_type": "markdown",
   "metadata": {},
   "source": [
    "tensorboard --logdir runs"
   ]
  },
  {
   "cell_type": "code",
   "execution_count": 6,
   "metadata": {},
   "outputs": [
    {
     "data": {
      "image/png": "[encoded data removed]",
      "text/plain": [
       "<Figure size 288x288 with 1 Axes>"
      ]
     },
     "metadata": {
      "needs_background": "light"
     },
     "output_type": "display_data"
    },
    {
     "data": {
      "image/png": "[encoded data removed]",
      "text/plain": [
       "<Figure size 288x288 with 1 Axes>"
      ]
     },
     "metadata": {
      "needs_background": "light"
     },
     "output_type": "display_data"
    }
   ],
   "source": [
    "fig, ax = plt.subplots(figsize=(4, 4))\n",
    "plt.plot(losses_epoch_train , color='r')\n",
    "plt.plot(losses_epoch_val, color='b')\n",
    "plt.legend([\"Train Loss\", \"Validation Loss\"])\n",
    "plt.xlabel(\"Epochs\")\n",
    "plt.ylabel(\"Loss\")\n",
    "ax.grid(True)\n",
    "\n",
    "fig, ax = plt.subplots(figsize=(4, 4))\n",
    "plt.plot(accuracy_epoch_train , color='r')\n",
    "plt.plot(accuracy_epoch_val, color='b')\n",
    "plt.legend([\"Validation Accuracy\"])\n",
    "plt.xlabel(\"Epochs\")\n",
    "plt.ylabel(\"Accuracy\")\n",
    "ax.grid(True)"
   ]
  },
  {
   "cell_type": "code",
   "execution_count": 7,
   "metadata": {},
   "outputs": [
    {
     "name": "stdout",
     "output_type": "stream",
     "text": [
      "Test Accuracy: % 0.541972279548645 \n"
     ]
    }
   ],
   "source": [
    "resnet18.eval()\n",
    "\n",
    "with torch.no_grad():\n",
    "    total = 0\n",
    "    correct_prediction = 0\n",
    "    for data in test_loader:\n",
    "        img, label = data\n",
    "        \n",
    "        if is_cpu_available:\n",
    "            img = img.cuda()\n",
    "            label = label.cuda()\n",
    "        \n",
    "        outputs = resnet18.forward(img)\n",
    "\n",
    "        _, predictions = torch.max(outputs.data, 1)\n",
    "        correct_prediction += (predictions == label).sum()\n",
    "        \n",
    "        total += len(label)\n",
    "\n",
    "    print('Test Accuracy: % {} '.format(correct_prediction / total))"
   ]
  },
  {
   "cell_type": "code",
   "execution_count": null,
   "metadata": {},
   "outputs": [],
   "source": []
  }
 ],
 "metadata": {
  "kernelspec": {
   "display_name": "Python 3",
   "language": "python",
   "name": "python3"
  },
  "language_info": {
   "codemirror_mode": {
    "name": "ipython",
    "version": 3
   },
   "file_extension": ".py",
   "mimetype": "text/x-python",
   "name": "python",
   "nbconvert_exporter": "python",
   "pygments_lexer": "ipython3",
   "version": "3.6.12"
  }
 },
 "nbformat": 4,
 "nbformat_minor": 4
}
