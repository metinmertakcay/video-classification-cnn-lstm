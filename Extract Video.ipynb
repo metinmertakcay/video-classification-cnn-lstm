{
 "cells": [
  {
   "cell_type": "markdown",
   "metadata": {},
   "source": [
    "### This python script is used to extract videos from the files"
   ]
  },
  {
   "cell_type": "code",
   "execution_count": 1,
   "metadata": {},
   "outputs": [],
   "source": [
    "import shutil\n",
    "import os"
   ]
  },
  {
   "cell_type": "code",
   "execution_count": 2,
   "metadata": {},
   "outputs": [],
   "source": [
    "root = 'data'\n",
    "dataset = os.listdir(root)"
   ]
  },
  {
   "cell_type": "code",
   "execution_count": 3,
   "metadata": {},
   "outputs": [],
   "source": [
    "for folder in dataset:\n",
    "    folder_path = os.path.join(root, folder)\n",
    "    \n",
    "    folders = os.listdir(folder_path)\n",
    "    for subfolder in folders:\n",
    "        subfolder_path = os.path.join(folder_path, subfolder)\n",
    "    \n",
    "        subfolders = os.listdir(subfolder_path)\n",
    "        for data in subfolders:\n",
    "            data_path = os.path.join(subfolder_path, data)\n",
    "            \n",
    "            shutil.copy(data_path, folder_path)\n",
    "            shutil.rmtree(subfolder_path)"
   ]
  },
  {
   "cell_type": "code",
   "execution_count": null,
   "metadata": {},
   "outputs": [],
   "source": []
  }
 ],
 "metadata": {
  "kernelspec": {
   "display_name": "Python 3",
   "language": "python",
   "name": "python3"
  },
  "language_info": {
   "codemirror_mode": {
    "name": "ipython",
    "version": 3
   },
   "file_extension": ".py",
   "mimetype": "text/x-python",
   "name": "python",
   "nbconvert_exporter": "python",
   "pygments_lexer": "ipython3",
   "version": "3.6.12"
  }
 },
 "nbformat": 4,
 "nbformat_minor": 4
}
