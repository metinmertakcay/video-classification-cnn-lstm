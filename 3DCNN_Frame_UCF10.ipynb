{
 "cells": [
  {
   "cell_type": "code",
   "execution_count": 1,
   "metadata": {},
   "outputs": [],
   "source": [
    "import os\n",
    "import cv2\n",
    "import torch\n",
    "import numpy as np\n",
    "import seaborn as sn\n",
    "import torch.nn as nn\n",
    "import torch.optim as optim\n",
    "import matplotlib.pyplot as plt\n",
    "import torchvision.models as models\n",
    "import torchvision.transforms as transforms\n",
    "\n",
    "from tqdm import tqdm\n",
    "from PIL import Image\n",
    "from sklearn.metrics import confusion_matrix\n",
    "from torch.utils.data import Dataset, DataLoader\n",
    "from torch.utils.tensorboard import SummaryWriter\n",
    "from torch.optim.lr_scheduler import ReduceLROnPlateau\n",
    "\n",
    "%matplotlib inline"
   ]
  },
  {
   "cell_type": "code",
   "execution_count": 2,
   "metadata": {},
   "outputs": [],
   "source": [
    "classes = ['Archery', 'Basketball', 'Biking', 'Billiards', 'Bowling', 'BreastStroke', 'Hammering', 'IceDancing', 'Kayaking', 'Skiing']"
   ]
  },
  {
   "cell_type": "code",
   "execution_count": 3,
   "metadata": {},
   "outputs": [],
   "source": [
    "class VideoDataset(Dataset):\n",
    "    def __init__(self, root_dir, transforms=transforms):\n",
    "        categories = os.listdir(root_dir)\n",
    "        \n",
    "        self.labels = []\n",
    "        self.videos = []\n",
    "        \n",
    "        for category in categories:\n",
    "            video_path = os.path.join(root_dir, category)\n",
    "            \n",
    "            videos = os.listdir(video_path)\n",
    "            for video in videos:\n",
    "                self.videos.append(os.path.join(video_path, video))\n",
    "                self.labels.append(classes.index(category))\n",
    "        \n",
    "        self.transforms = transforms\n",
    "\n",
    "    def __len__(self):\n",
    "        return len(self.videos)\n",
    "\n",
    "    def __getitem__(self, idx):\n",
    "        label = self.labels[idx]\n",
    "        video = self.videos[idx]\n",
    "        \n",
    "        frames = np.zeros((16, 3, 112, 112))\n",
    "        \n",
    "        i = 0\n",
    "        frame_names = os.listdir(video)\n",
    "        for frame_name in frame_names:\n",
    "            img = Image.open(os.path.join(video, frame_name))\n",
    "            img = img.resize((112, 112), Image.BICUBIC)\n",
    "            img = self.transforms(img)\n",
    "            frames[i] = img\n",
    "            i += 1\n",
    "        \n",
    "        frames = np.transpose(frames, (1, 0, 2, 3))\n",
    "        \n",
    "        return frames, label"
   ]
  },
  {
   "cell_type": "code",
   "execution_count": 4,
   "metadata": {},
   "outputs": [],
   "source": [
    "train_transforms = transforms.Compose([\n",
    "            transforms.Resize(112, 112),\n",
    "            transforms.RandomHorizontalFlip(),\n",
    "            transforms.RandomRotation(15),\n",
    "            transforms.ColorJitter(brightness=0.15, contrast=0.15, saturation=0.15),\n",
    "            transforms.ToTensor(),\n",
    "            transforms.Normalize((0.43216, 0.394666, 0.37645), (0.22803, 0.22145, 0.216989))\n",
    "        ])\n",
    "val_transforms = transforms.Compose([\n",
    "            transforms.Resize(112, 112),\n",
    "            transforms.ToTensor(),\n",
    "            transforms.Normalize((0.43216, 0.394666, 0.37645), (0.22803, 0.22145, 0.216989))\n",
    "        ])\n",
    "test_transforms = transforms.Compose([\n",
    "            transforms.Resize(112, 112),\n",
    "            transforms.ToTensor(),\n",
    "            transforms.Normalize((0.43216, 0.394666, 0.37645), (0.22803, 0.22145, 0.216989))\n",
    "        ])"
   ]
  },
  {
   "cell_type": "code",
   "execution_count": 5,
   "metadata": {},
   "outputs": [],
   "source": [
    "train_dataset = VideoDataset('./dataset_ucf_video_frame_vc/train', train_transforms)\n",
    "val_dataset = VideoDataset('./dataset_ucf_video_frame_vc/val', val_transforms)\n",
    "test_dataset = VideoDataset('./dataset_ucf_video_frame_vc/test', test_transforms)"
   ]
  },
  {
   "cell_type": "code",
   "execution_count": 6,
   "metadata": {},
   "outputs": [],
   "source": [
    "train_loader = DataLoader(dataset=train_dataset, batch_size=20, shuffle=True)\n",
    "test_loader = DataLoader(dataset=val_dataset, batch_size=20, shuffle=False)\n",
    "val_loader = DataLoader(dataset=test_dataset, batch_size=20, shuffle=False)"
   ]
  },
  {
   "cell_type": "code",
   "execution_count": 7,
   "metadata": {},
   "outputs": [],
   "source": [
    "model = models.video.r3d_18(pretrained=True)\n",
    "\n",
    "num_features = model.fc.in_features\n",
    "model.fc = nn.Linear(num_features, len(classes))\n",
    "\n",
    "i = 0\n",
    "for params in model.parameters():\n",
    "    if i < 9:\n",
    "        params.requires_grad = False\n",
    "    i += 1"
   ]
  },
  {
   "cell_type": "code",
   "execution_count": 8,
   "metadata": {},
   "outputs": [],
   "source": [
    "optimizer = optim.Adam(model.parameters(), lr=0.00001, weight_decay=0.001)\n",
    "criteria = nn.CrossEntropyLoss()\n",
    "#reduce_lr = ReduceLROnPlateau(optimizer, mode='min', factor=0.2, patience=5, verbose=1)"
   ]
  },
  {
   "cell_type": "code",
   "execution_count": 9,
   "metadata": {},
   "outputs": [],
   "source": [
    "is_cpu_available = torch.cuda.is_available()\n",
    "\n",
    "if is_cpu_available:\n",
    "    model.cuda()\n",
    "    criteria.cuda()"
   ]
  },
  {
   "cell_type": "code",
   "execution_count": 10,
   "metadata": {},
   "outputs": [
    {
     "name": "stderr",
     "output_type": "stream",
     "text": [
      "100%|██████████████████████████████████████████████████████████████████████████████████| 49/49 [06:44<00:00,  8.25s/it]\n",
      "  0%|                                                                                           | 0/14 [00:00<?, ?it/s]"
     ]
    },
    {
     "name": "stdout",
     "output_type": "stream",
     "text": [
      "Epoch: 0 - Train Loss: 1.8654560702187675 - Train Accuracy: 0.4597938358783722\n"
     ]
    },
    {
     "name": "stderr",
     "output_type": "stream",
     "text": [
      "100%|██████████████████████████████████████████████████████████████████████████████████| 14/14 [00:49<00:00,  3.51s/it]\n",
      "  0%|                                                                                           | 0/49 [00:00<?, ?it/s]"
     ]
    },
    {
     "name": "stdout",
     "output_type": "stream",
     "text": [
      "Epoch: 0 - Val Loss: 1.3888624353068215 - Val Accuracy: 0.7122302055358887\n"
     ]
    },
    {
     "name": "stderr",
     "output_type": "stream",
     "text": [
      "100%|██████████████████████████████████████████████████████████████████████████████████| 49/49 [06:38<00:00,  8.13s/it]\n",
      "  0%|                                                                                           | 0/14 [00:00<?, ?it/s]"
     ]
    },
    {
     "name": "stdout",
     "output_type": "stream",
     "text": [
      "Epoch: 1 - Train Loss: 1.0654900110497767 - Train Accuracy: 0.861855685710907\n"
     ]
    },
    {
     "name": "stderr",
     "output_type": "stream",
     "text": [
      "100%|██████████████████████████████████████████████████████████████████████████████████| 14/14 [00:48<00:00,  3.48s/it]\n",
      "  0%|                                                                                           | 0/49 [00:00<?, ?it/s]"
     ]
    },
    {
     "name": "stdout",
     "output_type": "stream",
     "text": [
      "Epoch: 1 - Val Loss: 0.8625144000564303 - Val Accuracy: 0.9172661900520325\n"
     ]
    },
    {
     "name": "stderr",
     "output_type": "stream",
     "text": [
      "100%|██████████████████████████████████████████████████████████████████████████████████| 49/49 [06:34<00:00,  8.05s/it]\n",
      "  0%|                                                                                           | 0/14 [00:00<?, ?it/s]"
     ]
    },
    {
     "name": "stdout",
     "output_type": "stream",
     "text": [
      "Epoch: 2 - Train Loss: 0.6667273579811563 - Train Accuracy: 0.9556701183319092\n"
     ]
    },
    {
     "name": "stderr",
     "output_type": "stream",
     "text": [
      "100%|██████████████████████████████████████████████████████████████████████████████████| 14/14 [00:48<00:00,  3.45s/it]\n",
      "  0%|                                                                                           | 0/49 [00:00<?, ?it/s]"
     ]
    },
    {
     "name": "stdout",
     "output_type": "stream",
     "text": [
      "Epoch: 2 - Val Loss: 0.5857357648866517 - Val Accuracy: 0.9532374143600464\n"
     ]
    },
    {
     "name": "stderr",
     "output_type": "stream",
     "text": [
      "100%|██████████████████████████████████████████████████████████████████████████████████| 49/49 [06:35<00:00,  8.07s/it]\n",
      "  0%|                                                                                           | 0/14 [00:00<?, ?it/s]"
     ]
    },
    {
     "name": "stdout",
     "output_type": "stream",
     "text": [
      "Epoch: 3 - Train Loss: 0.43957770174863386 - Train Accuracy: 0.977319598197937\n"
     ]
    },
    {
     "name": "stderr",
     "output_type": "stream",
     "text": [
      "100%|██████████████████████████████████████████████████████████████████████████████████| 14/14 [00:51<00:00,  3.67s/it]\n",
      "  0%|                                                                                           | 0/49 [00:00<?, ?it/s]"
     ]
    },
    {
     "name": "stdout",
     "output_type": "stream",
     "text": [
      "Epoch: 3 - Val Loss: 0.4169666389269488 - Val Accuracy: 0.9676259160041809\n"
     ]
    },
    {
     "name": "stderr",
     "output_type": "stream",
     "text": [
      "100%|██████████████████████████████████████████████████████████████████████████████████| 49/49 [06:36<00:00,  8.09s/it]\n",
      "  0%|                                                                                           | 0/14 [00:00<?, ?it/s]"
     ]
    },
    {
     "name": "stdout",
     "output_type": "stream",
     "text": [
      "Epoch: 4 - Train Loss: 0.3069330274450536 - Train Accuracy: 0.9845361113548279\n"
     ]
    },
    {
     "name": "stderr",
     "output_type": "stream",
     "text": [
      "100%|██████████████████████████████████████████████████████████████████████████████████| 14/14 [00:48<00:00,  3.45s/it]\n",
      "  0%|                                                                                           | 0/49 [00:00<?, ?it/s]"
     ]
    },
    {
     "name": "stdout",
     "output_type": "stream",
     "text": [
      "Epoch: 4 - Val Loss: 0.3217441290616989 - Val Accuracy: 0.9640287756919861\n"
     ]
    },
    {
     "name": "stderr",
     "output_type": "stream",
     "text": [
      "100%|██████████████████████████████████████████████████████████████████████████████████| 49/49 [06:38<00:00,  8.13s/it]\n",
      "  0%|                                                                                           | 0/14 [00:00<?, ?it/s]"
     ]
    },
    {
     "name": "stdout",
     "output_type": "stream",
     "text": [
      "Epoch: 5 - Train Loss: 0.22980022415214654 - Train Accuracy: 0.9886598587036133\n"
     ]
    },
    {
     "name": "stderr",
     "output_type": "stream",
     "text": [
      "100%|██████████████████████████████████████████████████████████████████████████████████| 14/14 [00:49<00:00,  3.55s/it]\n",
      "  0%|                                                                                           | 0/49 [00:00<?, ?it/s]"
     ]
    },
    {
     "name": "stdout",
     "output_type": "stream",
     "text": [
      "Epoch: 5 - Val Loss: 0.2565950062125921 - Val Accuracy: 0.9676259160041809\n"
     ]
    },
    {
     "name": "stderr",
     "output_type": "stream",
     "text": [
      "100%|██████████████████████████████████████████████████████████████████████████████████| 49/49 [06:45<00:00,  8.28s/it]\n",
      "  0%|                                                                                           | 0/14 [00:00<?, ?it/s]"
     ]
    },
    {
     "name": "stdout",
     "output_type": "stream",
     "text": [
      "Epoch: 6 - Train Loss: 0.16814491760974026 - Train Accuracy: 0.9927835464477539\n"
     ]
    },
    {
     "name": "stderr",
     "output_type": "stream",
     "text": [
      "100%|██████████████████████████████████████████████████████████████████████████████████| 14/14 [00:50<00:00,  3.61s/it]\n",
      "  0%|                                                                                           | 0/49 [00:00<?, ?it/s]"
     ]
    },
    {
     "name": "stdout",
     "output_type": "stream",
     "text": [
      "Epoch: 6 - Val Loss: 0.21809763674225127 - Val Accuracy: 0.9712230563163757\n"
     ]
    },
    {
     "name": "stderr",
     "output_type": "stream",
     "text": [
      "100%|██████████████████████████████████████████████████████████████████████████████████| 49/49 [06:45<00:00,  8.27s/it]\n",
      "  0%|                                                                                           | 0/14 [00:00<?, ?it/s]"
     ]
    },
    {
     "name": "stdout",
     "output_type": "stream",
     "text": [
      "Epoch: 7 - Train Loss: 0.13802809192209828 - Train Accuracy: 0.9948453903198242\n"
     ]
    },
    {
     "name": "stderr",
     "output_type": "stream",
     "text": [
      "100%|██████████████████████████████████████████████████████████████████████████████████| 14/14 [00:51<00:00,  3.67s/it]\n",
      "  0%|                                                                                           | 0/49 [00:00<?, ?it/s]"
     ]
    },
    {
     "name": "stdout",
     "output_type": "stream",
     "text": [
      "Epoch: 7 - Val Loss: 0.1836981624364853 - Val Accuracy: 0.9784172773361206\n"
     ]
    },
    {
     "name": "stderr",
     "output_type": "stream",
     "text": [
      "100%|██████████████████████████████████████████████████████████████████████████████████| 49/49 [06:52<00:00,  8.42s/it]\n",
      "  0%|                                                                                           | 0/14 [00:00<?, ?it/s]"
     ]
    },
    {
     "name": "stdout",
     "output_type": "stream",
     "text": [
      "Epoch: 8 - Train Loss: 0.11835761946074817 - Train Accuracy: 0.9969072341918945\n"
     ]
    },
    {
     "name": "stderr",
     "output_type": "stream",
     "text": [
      "100%|██████████████████████████████████████████████████████████████████████████████████| 14/14 [00:51<00:00,  3.66s/it]\n",
      "  0%|                                                                                           | 0/49 [00:00<?, ?it/s]"
     ]
    },
    {
     "name": "stdout",
     "output_type": "stream",
     "text": [
      "Epoch: 8 - Val Loss: 0.16472442621099098 - Val Accuracy: 0.9784172773361206\n"
     ]
    },
    {
     "name": "stderr",
     "output_type": "stream",
     "text": [
      "100%|██████████████████████████████████████████████████████████████████████████████████| 49/49 [06:52<00:00,  8.42s/it]\n",
      "  0%|                                                                                           | 0/14 [00:00<?, ?it/s]"
     ]
    },
    {
     "name": "stdout",
     "output_type": "stream",
     "text": [
      "Epoch: 9 - Train Loss: 0.08752948410656987 - Train Accuracy: 0.9989691376686096\n"
     ]
    },
    {
     "name": "stderr",
     "output_type": "stream",
     "text": [
      "100%|██████████████████████████████████████████████████████████████████████████████████| 14/14 [00:53<00:00,  3.79s/it]\n",
      "  0%|                                                                                           | 0/49 [00:00<?, ?it/s]"
     ]
    },
    {
     "name": "stdout",
     "output_type": "stream",
     "text": [
      "Epoch: 9 - Val Loss: 0.15448428384427512 - Val Accuracy: 0.9748201370239258\n"
     ]
    },
    {
     "name": "stderr",
     "output_type": "stream",
     "text": [
      "100%|██████████████████████████████████████████████████████████████████████████████████| 49/49 [06:58<00:00,  8.55s/it]\n",
      "  0%|                                                                                           | 0/14 [00:00<?, ?it/s]"
     ]
    },
    {
     "name": "stdout",
     "output_type": "stream",
     "text": [
      "Epoch: 10 - Train Loss: 0.08486052009524131 - Train Accuracy: 0.9969072341918945\n"
     ]
    },
    {
     "name": "stderr",
     "output_type": "stream",
     "text": [
      "100%|██████████████████████████████████████████████████████████████████████████████████| 14/14 [00:53<00:00,  3.82s/it]\n",
      "  0%|                                                                                           | 0/49 [00:00<?, ?it/s]"
     ]
    },
    {
     "name": "stdout",
     "output_type": "stream",
     "text": [
      "Epoch: 10 - Val Loss: 0.13150412935231412 - Val Accuracy: 0.9748201370239258\n"
     ]
    },
    {
     "name": "stderr",
     "output_type": "stream",
     "text": [
      "100%|██████████████████████████████████████████████████████████████████████████████████| 49/49 [07:03<00:00,  8.64s/it]\n",
      "  0%|                                                                                           | 0/14 [00:00<?, ?it/s]"
     ]
    },
    {
     "name": "stdout",
     "output_type": "stream",
     "text": [
      "Epoch: 11 - Train Loss: 0.07559804337061181 - Train Accuracy: 0.9969072341918945\n"
     ]
    },
    {
     "name": "stderr",
     "output_type": "stream",
     "text": [
      "100%|██████████████████████████████████████████████████████████████████████████████████| 14/14 [00:55<00:00,  3.93s/it]\n",
      "  0%|                                                                                           | 0/49 [00:00<?, ?it/s]"
     ]
    },
    {
     "name": "stdout",
     "output_type": "stream",
     "text": [
      "Epoch: 11 - Val Loss: 0.1227027667420251 - Val Accuracy: 0.9784172773361206\n"
     ]
    },
    {
     "name": "stderr",
     "output_type": "stream",
     "text": [
      "100%|██████████████████████████████████████████████████████████████████████████████████| 49/49 [07:13<00:00,  8.86s/it]\n",
      "  0%|                                                                                           | 0/14 [00:00<?, ?it/s]"
     ]
    },
    {
     "name": "stdout",
     "output_type": "stream",
     "text": [
      "Epoch: 12 - Train Loss: 0.06042353592204804 - Train Accuracy: 0.9989691376686096\n"
     ]
    },
    {
     "name": "stderr",
     "output_type": "stream",
     "text": [
      "100%|██████████████████████████████████████████████████████████████████████████████████| 14/14 [00:57<00:00,  4.10s/it]\n",
      "  0%|                                                                                           | 0/49 [00:00<?, ?it/s]"
     ]
    },
    {
     "name": "stdout",
     "output_type": "stream",
     "text": [
      "Epoch: 12 - Val Loss: 0.10480083285697869 - Val Accuracy: 0.9820144176483154\n"
     ]
    },
    {
     "name": "stderr",
     "output_type": "stream",
     "text": [
      "100%|██████████████████████████████████████████████████████████████████████████████████| 49/49 [07:22<00:00,  9.03s/it]\n",
      "  0%|                                                                                           | 0/14 [00:00<?, ?it/s]"
     ]
    },
    {
     "name": "stdout",
     "output_type": "stream",
     "text": [
      "Epoch: 13 - Train Loss: 0.05724743517990015 - Train Accuracy: 1.0\n"
     ]
    },
    {
     "name": "stderr",
     "output_type": "stream",
     "text": [
      "100%|██████████████████████████████████████████████████████████████████████████████████| 14/14 [00:54<00:00,  3.90s/it]\n",
      "  0%|                                                                                           | 0/49 [00:00<?, ?it/s]"
     ]
    },
    {
     "name": "stdout",
     "output_type": "stream",
     "text": [
      "Epoch: 13 - Val Loss: 0.108535730146936 - Val Accuracy: 0.9784172773361206\n"
     ]
    },
    {
     "name": "stderr",
     "output_type": "stream",
     "text": [
      "100%|██████████████████████████████████████████████████████████████████████████████████| 49/49 [07:06<00:00,  8.71s/it]\n",
      "  0%|                                                                                           | 0/14 [00:00<?, ?it/s]"
     ]
    },
    {
     "name": "stdout",
     "output_type": "stream",
     "text": [
      "Epoch: 14 - Train Loss: 0.05059709772467613 - Train Accuracy: 0.9979381561279297\n"
     ]
    },
    {
     "name": "stderr",
     "output_type": "stream",
     "text": [
      "100%|██████████████████████████████████████████████████████████████████████████████████| 14/14 [00:51<00:00,  3.65s/it]"
     ]
    },
    {
     "name": "stdout",
     "output_type": "stream",
     "text": [
      "Epoch: 14 - Val Loss: 0.10008886243615832 - Val Accuracy: 0.9784172773361206\n"
     ]
    },
    {
     "name": "stderr",
     "output_type": "stream",
     "text": [
      "\n"
     ]
    }
   ],
   "source": [
    "n_epochs = 15\n",
    "\n",
    "losses_epoch_train = []\n",
    "accuracy_epoch_train = []\n",
    "\n",
    "losses_epoch_val = []\n",
    "accuracy_epoch_val = []\n",
    "\n",
    "writer = SummaryWriter()\n",
    "\n",
    "model.train()\n",
    "\n",
    "# Training loop\n",
    "for epoch in range(n_epochs):\n",
    "    total = 0\n",
    "    epoch_loss = 0\n",
    "    epoch_correct = 0\n",
    "    for ix, data in enumerate(tqdm(train_loader)):\n",
    "        model.zero_grad()\n",
    "        \n",
    "        imgs, label = data\n",
    "        \n",
    "        if is_cpu_available:\n",
    "            imgs = imgs.float().cuda()\n",
    "            label = label.cuda()\n",
    "            \n",
    "        # Forward pass\n",
    "        outputs = model.forward(imgs)\n",
    "        loss = criteria(outputs, label)\n",
    "\n",
    "        # Prevent gradient addition\n",
    "        optimizer.zero_grad()\n",
    "\n",
    "        # Gradient calculation\n",
    "        loss.backward()\n",
    "\n",
    "        # Optimization\n",
    "        optimizer.step()\n",
    "\n",
    "        # Train loss for iter\n",
    "        epoch_loss += loss.item()\n",
    "\n",
    "        # Train accuracy for iter\n",
    "        _, predictions = torch.max(outputs.data, 1)\n",
    "        correct_pediction = (predictions == label).sum()\n",
    "\n",
    "        epoch_correct += correct_pediction\n",
    "        total += len(label)\n",
    "        \n",
    "    losses_epoch_train.append(epoch_loss / len(train_loader))\n",
    "    accuracy_epoch_train.append(epoch_correct / total)\n",
    "\n",
    "    writer.add_scalars('loss', {'train loss': epoch_loss / len(train_loader)}, epoch)\n",
    "    writer.add_scalars('acc', {'train acc': epoch_correct / total}, epoch)\n",
    "    \n",
    "    print('Epoch: {} - Train Loss: {} - Train Accuracy: {}'.format(epoch, epoch_loss / len(train_loader), epoch_correct / total))          \n",
    "\n",
    "    with torch.no_grad():\n",
    "        model.eval()\n",
    "\n",
    "        total = 0\n",
    "        epoch_loss = 0\n",
    "        epoch_correct = 0\n",
    "        # Measure the performance in validation set.\n",
    "        for ix, data in enumerate(tqdm(val_loader)):\n",
    "\n",
    "            imgs, label = data\n",
    "        \n",
    "            if is_cpu_available:\n",
    "                imgs = imgs.float().cuda()\n",
    "                label = label.cuda()\n",
    "\n",
    "            # Test forward\n",
    "            outputs = model.forward(imgs)\n",
    "            loss = criteria(outputs, label)\n",
    "\n",
    "            # Test loss for iter\n",
    "            epoch_loss += loss.item()\n",
    "\n",
    "            # Train accuracy for iter\n",
    "            _, predictions = torch.max(outputs.data, 1)\n",
    "            correct_pediction = (predictions == label).sum()\n",
    "\n",
    "            epoch_correct += correct_pediction\n",
    "            total += len(label)\n",
    "            \n",
    "        losses_epoch_val.append(epoch_loss / len(val_loader))\n",
    "        accuracy_epoch_val.append(epoch_correct / total)\n",
    "\n",
    "        writer.add_scalars('loss', {'val loss': epoch_loss / len(val_loader)}, epoch)\n",
    "        writer.add_scalars('acc', {'val acc': epoch_correct / total}, epoch)\n",
    "\n",
    "        print('Epoch: {} - Val Loss: {} - Val Accuracy: {}'.format(epoch, epoch_loss / len(val_loader), epoch_correct / total))          \n",
    "\n",
    "    model.train()\n",
    "    \n",
    "writer.close()"
   ]
  },
  {
   "cell_type": "code",
   "execution_count": 11,
   "metadata": {},
   "outputs": [
    {
     "data": {
      "image/png": "[encoded data removed]",
      "text/plain": [
       "<Figure size 288x288 with 1 Axes>"
      ]
     },
     "metadata": {
      "needs_background": "light"
     },
     "output_type": "display_data"
    },
    {
     "data": {
      "image/png": "[encoded data removed]",
      "text/plain": [
       "<Figure size 288x288 with 1 Axes>"
      ]
     },
     "metadata": {
      "needs_background": "light"
     },
     "output_type": "display_data"
    }
   ],
   "source": [
    "fig, ax = plt.subplots(figsize=(4, 4))\n",
    "plt.plot(losses_epoch_train , color='r')\n",
    "plt.plot(losses_epoch_val, color='b')\n",
    "plt.legend([\"Train Loss\", \"Validation Loss\"])\n",
    "plt.xlabel(\"Epochs\")\n",
    "plt.ylabel(\"Loss\")\n",
    "ax.grid(True)\n",
    "\n",
    "fig, ax = plt.subplots(figsize=(4, 4))\n",
    "plt.plot(accuracy_epoch_train , color='r')\n",
    "plt.plot(accuracy_epoch_val, color='b')\n",
    "plt.legend([\"Validation Accuracy\"])\n",
    "plt.xlabel(\"Epochs\")\n",
    "plt.ylabel(\"Accuracy\")\n",
    "ax.grid(True)"
   ]
  },
  {
   "cell_type": "code",
   "execution_count": 12,
   "metadata": {},
   "outputs": [
    {
     "name": "stdout",
     "output_type": "stream",
     "text": [
      "Test Accuracy: % 0.9862068891525269 \n"
     ]
    },
    {
     "data": {
      "image/png": "[encoded data removed]",
      "text/plain": [
       "<Figure size 432x288 with 2 Axes>"
      ]
     },
     "metadata": {
      "needs_background": "light"
     },
     "output_type": "display_data"
    }
   ],
   "source": [
    "model.eval()\n",
    "\n",
    "targets = []\n",
    "predicts = []\n",
    "\n",
    "with torch.no_grad():\n",
    "    total = 0\n",
    "    correct_prediction = 0\n",
    "    for data in test_loader:\n",
    "        imgs, label = data\n",
    "        \n",
    "        if is_cpu_available:\n",
    "            img = imgs.float().cuda()\n",
    "            label = label.cuda()\n",
    "        \n",
    "        outputs = model.forward(img)\n",
    "\n",
    "        _, predictions = torch.max(outputs.data, 1)\n",
    "        correct_prediction += (predictions == label).sum()\n",
    "        \n",
    "        total += len(label)\n",
    "        \n",
    "        preds = predictions.detach().cpu().numpy()\n",
    "        labels = label.detach().cpu().numpy()\n",
    "        \n",
    "        for i in range(len(preds)):\n",
    "            targets.append(labels[i])\n",
    "            predicts.append(preds[i])\n",
    "\n",
    "    print('Test Accuracy: % {} '.format(correct_prediction / total))\n",
    "    \n",
    "    matrix = confusion_matrix(targets, predicts, normalize = 'true')\n",
    "    sn.heatmap(matrix, annot=True, cmap = sn.color_palette(\"vlag\", as_cmap=True), xticklabels=classes, yticklabels=classes)"
   ]
  },
  {
   "cell_type": "code",
   "execution_count": null,
   "metadata": {},
   "outputs": [],
   "source": []
  }
 ],
 "metadata": {
  "kernelspec": {
   "display_name": "Python 3",
   "language": "python",
   "name": "python3"
  },
  "language_info": {
   "codemirror_mode": {
    "name": "ipython",
    "version": 3
   },
   "file_extension": ".py",
   "mimetype": "text/x-python",
   "name": "python",
   "nbconvert_exporter": "python",
   "pygments_lexer": "ipython3",
   "version": "3.6.12"
  }
 },
 "nbformat": 4,
 "nbformat_minor": 4
}
